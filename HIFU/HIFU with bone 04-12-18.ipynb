{
 "cells": [
  {
   "cell_type": "code",
   "execution_count": 156,
   "metadata": {},
   "outputs": [],
   "source": [
    "%matplotlib inline \n",
    "\n",
    "\n",
    "import numpy as np #To use functions or constants that are in the NumPy module, type np.function_name. EG: np.pi is pi\n",
    "import numpy.random as nprd #This imports random number generation functions\n",
    "import scipy as sp #SciPy has lots of useful numerical methods, so we don't have to write them\n",
    "import scipy.linalg as spla #This imports the sub-module containing linear algebra methods\n",
    "import matplotlib.pyplot as plt #This will let us display images nicely\n",
    "import cv2\n",
    "import random"
   ]
  },
  {
   "cell_type": "code",
   "execution_count": 169,
   "metadata": {},
   "outputs": [],
   "source": [
    "# plate size, mm\n",
    "w = h = 10.\n",
    "# intervals in x-, y- directions, mm\n",
    "dx = dy = 0.1\n",
    "# Thermal diffusivity \n",
    "rhoxc=1041*3430\n",
    "gamma= 0.6923*3430\n",
    "k=(1/2)*(10**4)\n",
    "Q_low,Q_high=4,10\n",
    "D=k/rhoxc\n",
    "Perfusion=gamma/rhoxc\n",
    "Tcool = 37\n",
    "\n",
    "nx, ny = int(w/dx), int(h/dy)\n",
    "\n",
    "dx2, dy2 = dx*dx, dy*dy\n",
    "\n",
    "dt=1\n",
    "\n",
    "u0 = Tcool * np.ones((nx, ny))\n",
    "u = np.empty((nx, ny))\n",
    "\n",
    "r, cx, cy = 2, 5, 5"
   ]
  },
  {
   "cell_type": "code",
   "execution_count": 170,
   "metadata": {},
   "outputs": [
    {
     "data": {
      "image/png": "[encoded data removed]",
      "text/plain": [
       "<Figure size 432x288 with 1 Axes>"
      ]
     },
     "metadata": {
      "needs_background": "light"
     },
     "output_type": "display_data"
    },
    {
     "data": {
      "image/png": "[encoded data removed]",
      "text/plain": [
       "<Figure size 432x288 with 1 Axes>"
      ]
     },
     "metadata": {
      "needs_background": "light"
     },
     "output_type": "display_data"
    }
   ],
   "source": [
    "material= np.zeros((nx,ny))\n",
    "material[3*int(nx/w):int(5*ny/h)]=material[3*int(nx/w):int(5*ny/h)]+1\n",
    "\n",
    "rhoxc_bone=1420*1700\n",
    "gamma_bone= 0.892*1700\n",
    "k_bone=0.38*(10**4)\n",
    "D_bone=k_bone/rhoxc_bone\n",
    "\n",
    "Perfusion_bone=gamma_bone/rhoxc_bone\n",
    "\n",
    "\n",
    "D_matrix=np.empty((nx,ny))\n",
    "D_matrix[material==0]=D\n",
    "D_matrix[material==1]=D/10 ; D_bone\n",
    "D_matrix=D_matrix[1:-1, 1:-1]\n",
    "\n",
    "Perfusion_matrix=np.empty((nx,ny))\n",
    "Perfusion_matrix[material==0]=Perfusion\n",
    "Perfusion_matrix[material==1]=Perfusion_bone\n",
    "Perfusion_matrix=Perfusion_matrix[1:-1, 1:-1]\n",
    "\n",
    "plt.imshow(material)\n",
    "plt.show()\n",
    "\n",
    "plt.imshow(D_matrix)\n",
    "plt.show()"
   ]
  },
  {
   "cell_type": "code",
   "execution_count": 171,
   "metadata": {},
   "outputs": [],
   "source": [
    "#Heating at each time step \n",
    "def random_heat_source(nx,ny, r, cx, cy, Q_high, Q_low):\n",
    "    Q = np.zeros((nx, ny))\n",
    "    r2 = r**2\n",
    "    for i in range(nx):\n",
    "        for j in range(ny):\n",
    "            p2 = (i*dx-cx)**2 + (j*dy-cy)**2\n",
    "            T=7 # random.uniform(Q_low,Q_high)\n",
    "            if p2 < r2:\n",
    "                Q[i,j] = T*np.exp(-200*p2)\n",
    "        \n",
    "    return(Q[1:-1, 1:-1])\n",
    "Q=random_heat_source(nx,ny, r, cx, cy, Q_high, Q_low)"
   ]
  },
  {
   "cell_type": "code",
   "execution_count": 172,
   "metadata": {},
   "outputs": [],
   "source": [
    "def do_timestep(u0, u):\n",
    "    # Propagate with forward-difference in time, central-difference in space\n",
    "    u[1:-1, 1:-1] = u0[1:-1, 1:-1] + dt*(np.multiply(D_matrix,\n",
    "         ( (u0[2:, 1:-1] - 2*u0[1:-1, 1:-1] + u0[:-2, 1:-1])/dx2\n",
    "          + (u0[1:-1, 2:] - 2*u0[1:-1, 1:-1] + u0[1:-1, :-2])/dy2 ))+Q )#-np.multiply(Perfusion_matrix, (u0[1:-1, 1:-1]-37)))\n",
    "     \n",
    "    u0 = u.copy()\n",
    "    return u0, u"
   ]
  },
  {
   "cell_type": "code",
   "execution_count": 173,
   "metadata": {},
   "outputs": [
    {
     "name": "stdout",
     "output_type": "stream",
     "text": [
      "1 1\n",
      "200 2\n",
      "500 3\n",
      "1000 4\n"
     ]
    },
    {
     "data": {
      "image/png": "[encoded data removed]",
      "text/plain": [
       "<Figure size 432x288 with 5 Axes>"
      ]
     },
     "metadata": {
      "needs_background": "light"
     },
     "output_type": "display_data"
    }
   ],
   "source": [
    "# Number of timesteps\n",
    "nsteps = 1001\n",
    "# Output 4 figures at these timesteps\n",
    "mfig = [1, 200,500, 1000]\n",
    "fignum = 0\n",
    "fig = plt.figure()\n",
    "for m in range(nsteps):\n",
    "    u0, u = do_timestep(u0, u)\n",
    "    if m in mfig:\n",
    "        fignum += 1\n",
    "        print(m, fignum)\n",
    "        ax = fig.add_subplot(220 + fignum)\n",
    "        im = ax.imshow(u.copy(), cmap=plt.get_cmap('hot'), vmin=Tcool)\n",
    "        ax.set_axis_off()\n",
    "        ax.set_title('{:.1f} steps'.format(m*dt))\n",
    "fig.subplots_adjust(right=0.85)\n",
    "cbar_ax = fig.add_axes([0.9, 0.15, 0.03, 0.7])\n",
    "cbar_ax.set_xlabel('$T$ / C', labelpad=20)\n",
    "fig.colorbar(im, cax=cbar_ax)\n",
    "plt.show()"
   ]
  },
  {
   "cell_type": "code",
   "execution_count": 174,
   "metadata": {},
   "outputs": [],
   "source": [
    "#u_bone=u.copy()\n",
    "u_no_bone=u.copy()\n"
   ]
  },
  {
   "cell_type": "code",
   "execution_count": null,
   "metadata": {},
   "outputs": [],
   "source": []
  },
  {
   "cell_type": "code",
   "execution_count": 16,
   "metadata": {},
   "outputs": [
    {
     "data": {
      "text/plain": [
       "9.797746215093333"
      ]
     },
     "execution_count": 16,
     "metadata": {},
     "output_type": "execute_result"
    }
   ],
   "source": [
    "np.max((random_heat_source(nx,ny, r, cx, cy, Q_high, Q_low)))"
   ]
  },
  {
   "cell_type": "code",
   "execution_count": 155,
   "metadata": {},
   "outputs": [
    {
     "data": {
      "image/png": "[encoded data removed]",
      "text/plain": [
       "<Figure size 432x288 with 1 Axes>"
      ]
     },
     "metadata": {
      "needs_background": "light"
     },
     "output_type": "display_data"
    },
    {
     "data": {
      "text/plain": [
       "0.29115437567277525"
      ]
     },
     "execution_count": 155,
     "metadata": {},
     "output_type": "execute_result"
    }
   ],
   "source": [
    "plt.imshow(cv2.subtract(u_bone,u_no_bone))\n",
    "plt.show()\n",
    "np.max(cv2.subtract(u_bone,u_no_bone))"
   ]
  },
  {
   "cell_type": "code",
   "execution_count": 153,
   "metadata": {},
   "outputs": [
    {
     "data": {
      "text/plain": [
       "<matplotlib.image.AxesImage at 0x18b2907a908>"
      ]
     },
     "execution_count": 153,
     "metadata": {},
     "output_type": "execute_result"
    },
    {
     "data": {
      "image/png": "[encoded data removed]",
      "text/plain": [
       "<Figure size 432x288 with 1 Axes>"
      ]
     },
     "metadata": {
      "needs_background": "light"
     },
     "output_type": "display_data"
    }
   ],
   "source": [
    "plt.imshow(u_bone)"
   ]
  },
  {
   "cell_type": "code",
   "execution_count": 154,
   "metadata": {},
   "outputs": [
    {
     "data": {
      "text/plain": [
       "<matplotlib.image.AxesImage at 0x18b292ccfd0>"
      ]
     },
     "execution_count": 154,
     "metadata": {},
     "output_type": "execute_result"
    },
    {
     "data": {
      "image/png": "[encoded data removed]",
      "text/plain": [
       "<Figure size 432x288 with 1 Axes>"
      ]
     },
     "metadata": {
      "needs_background": "light"
     },
     "output_type": "display_data"
    }
   ],
   "source": [
    "plt.imshow(u_no_bone)"
   ]
  },
  {
   "cell_type": "code",
   "execution_count": null,
   "metadata": {},
   "outputs": [],
   "source": []
  }
 ],
 "metadata": {
  "kernelspec": {
   "display_name": "Python 3",
   "language": "python",
   "name": "python3"
  },
  "language_info": {
   "codemirror_mode": {
    "name": "ipython",
    "version": 3
   },
   "file_extension": ".py",
   "mimetype": "text/x-python",
   "name": "python",
   "nbconvert_exporter": "python",
   "pygments_lexer": "ipython3",
   "version": "3.6.7"
  }
 },
 "nbformat": 4,
 "nbformat_minor": 2
}
