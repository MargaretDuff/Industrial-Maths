{
 "cells": [
  {
   "cell_type": "code",
   "execution_count": 1,
   "metadata": {},
   "outputs": [],
   "source": [
    "%matplotlib inline \n",
    "\n",
    "\n",
    "import numpy as np #To use functions or constants that are in the NumPy module, type np.function_name. EG: np.pi is pi\n",
    "import numpy.random as nprd #This imports random number generation functions\n",
    "import scipy as sp #SciPy has lots of useful numerical methods, so we don't have to write them\n",
    "import scipy.linalg as spla #This imports the sub-module containing linear algebra methods\n",
    "import matplotlib.pyplot as plt #This will let us display images nicely\n",
    "import cv2\n",
    "import random"
   ]
  },
  {
   "cell_type": "code",
   "execution_count": 2,
   "metadata": {},
   "outputs": [],
   "source": [
    "# plate size, mm\n",
    "w = h = 10.\n",
    "# intervals in x-, y- directions, mm\n",
    "dx = dy = 0.1\n",
    "# Thermal diffusivity \n",
    "rhoxc=3000000\n",
    "gamma=2000\n",
    "k=(1/2)*(10**4)\n",
    "Q_low,Q_high=4,10\n",
    "D=k/rhoxc\n",
    "\n",
    "Tcool = 37\n",
    "\n",
    "nx, ny = int(w/dx), int(h/dy)\n",
    "\n",
    "dx2, dy2 = dx*dx, dy*dy\n",
    "#dt = (dx2/4)*(1/D)\n",
    "dt=1\n",
    "\n",
    "u0 = Tcool * np.ones((nx, ny))\n",
    "u = np.empty((nx, ny))\n",
    "\n",
    "r, cx, cy = 1, 5, 5\n"
   ]
  },
  {
   "cell_type": "code",
   "execution_count": 3,
   "metadata": {},
   "outputs": [
    {
     "data": {
      "text/plain": [
       "0.16666666666666666"
      ]
     },
     "execution_count": 3,
     "metadata": {},
     "output_type": "execute_result"
    }
   ],
   "source": [
    "D*dt/dx2"
   ]
  },
  {
   "cell_type": "code",
   "execution_count": 4,
   "metadata": {},
   "outputs": [],
   "source": [
    "#Heating at each time step \n",
    "def random_heat_source(nx,ny, r, cx, cy, Q_high, Q_low):\n",
    "    Q = np.zeros((nx, ny))\n",
    "    r2 = r**2\n",
    "    for i in range(nx):\n",
    "        for j in range(ny):\n",
    "            p2 = (i*dx-cx)**2 + (j*dy-cy)**2\n",
    "            if p2 < r2:\n",
    "                Q[i,j] = random.uniform(Q_low,Q_high)*np.exp(-100*p2)\n",
    "    return(Q[1:-1, 1:-1])"
   ]
  },
  {
   "cell_type": "code",
   "execution_count": 5,
   "metadata": {},
   "outputs": [],
   "source": [
    "def do_timestep(u0, u):\n",
    "    # Propagate with forward-difference in time, central-difference in space\n",
    "    u[1:-1, 1:-1] = u0[1:-1, 1:-1] + D*dt*(\n",
    "          (u0[2:, 1:-1] - 2*u0[1:-1, 1:-1] + u0[:-2, 1:-1])/dx2\n",
    "          + (u0[1:-1, 2:] - 2*u0[1:-1, 1:-1] + u0[1:-1, :-2])/dy2 )+dt*random_heat_source(nx,ny, r, cx, cy, Q_high, Q_low) -(dt*gamma/rhoxc)*(u0[1:-1, 1:-1]-37)\n",
    "     \n",
    "    u0 = u.copy()\n",
    "    return u0, u"
   ]
  },
  {
   "cell_type": "code",
   "execution_count": 6,
   "metadata": {},
   "outputs": [
    {
     "name": "stdout",
     "output_type": "stream",
     "text": [
      "1 1\n",
      "100 2\n",
      "200 3\n",
      "500 4\n"
     ]
    },
    {
     "data": {
      "image/png": "[encoded data removed]",
      "text/plain": [
       "<matplotlib.figure.Figure at 0x1f30c260d68>"
      ]
     },
     "metadata": {},
     "output_type": "display_data"
    }
   ],
   "source": [
    "# Number of timesteps\n",
    "nsteps = 501\n",
    "# Output 4 figures at these timesteps\n",
    "mfig = [1, 100,200, 500]\n",
    "fignum = 0\n",
    "fig = plt.figure()\n",
    "for m in range(nsteps):\n",
    "    u0, u = do_timestep(u0, u)\n",
    "    if m in mfig:\n",
    "        fignum += 1\n",
    "        print(m, fignum)\n",
    "        ax = fig.add_subplot(220 + fignum)\n",
    "        im = ax.imshow(u.copy(), cmap=plt.get_cmap('hot'), vmin=Tcool,vmax=120)\n",
    "        ax.set_axis_off()\n",
    "        ax.set_title('{:.1f} steps'.format(m*dt))\n",
    "fig.subplots_adjust(right=0.85)\n",
    "cbar_ax = fig.add_axes([0.9, 0.15, 0.03, 0.7])\n",
    "cbar_ax.set_xlabel('$T$ / K', labelpad=20)\n",
    "fig.colorbar(im, cax=cbar_ax)\n",
    "plt.show()"
   ]
  },
  {
   "cell_type": "code",
   "execution_count": 7,
   "metadata": {},
   "outputs": [
    {
     "data": {
      "text/plain": [
       "94.03125371712198"
      ]
     },
     "execution_count": 7,
     "metadata": {},
     "output_type": "execute_result"
    }
   ],
   "source": [
    "np.max(u)\n"
   ]
  },
  {
   "cell_type": "code",
   "execution_count": null,
   "metadata": {},
   "outputs": [],
   "source": []
  },
  {
   "cell_type": "code",
   "execution_count": null,
   "metadata": {},
   "outputs": [],
   "source": []
  },
  {
   "cell_type": "code",
   "execution_count": null,
   "metadata": {},
   "outputs": [],
   "source": []
  }
 ],
 "metadata": {
  "kernelspec": {
   "display_name": "Python 3",
   "language": "python",
   "name": "python3"
  },
  "language_info": {
   "codemirror_mode": {
    "name": "ipython",
    "version": 3
   },
   "file_extension": ".py",
   "mimetype": "text/x-python",
   "name": "python",
   "nbconvert_exporter": "python",
   "pygments_lexer": "ipython3",
   "version": "3.6.4"
  }
 },
 "nbformat": 4,
 "nbformat_minor": 2
}
